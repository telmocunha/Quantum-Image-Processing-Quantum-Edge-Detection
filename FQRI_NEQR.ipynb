{
 "cells": [
  {
   "cell_type": "markdown",
   "id": "f5b7c4a9-57f9-484e-b20d-2161d414284b",
   "metadata": {},
   "source": [
    "Trabalho realizado por:\n",
    "\n",
    "Telmo Cunha  2018308321\n",
    "\n",
    "\n",
    "Flexible Representation of Quantum Images (FRQI)"
   ]
  },
  {
   "cell_type": "code",
   "execution_count": 1,
   "id": "dbfec804-02b6-44e0-8a5d-20aaabb93b63",
   "metadata": {},
   "outputs": [],
   "source": [
    "# Importing standard Qiskit libraries and configuring account\n",
    "import qiskit as qk\n",
    "from qiskit import QuantumCircuit, Aer, IBMQ\n",
    "from qiskit import transpile, assemble\n",
    "from qiskit.tools.jupyter import *\n",
    "from qiskit.visualization import plot_histogram\n",
    "from math import pi"
   ]
  },
  {
   "cell_type": "markdown",
   "id": "ea7e34c2-de35-43ca-9640-23a4093c64fc",
   "metadata": {},
   "source": [
    "Exemplo 1"
   ]
  },
  {
   "cell_type": "code",
   "execution_count": 2,
   "id": "2aa77331-e80e-4892-b1b0-fdcab7eed607",
   "metadata": {},
   "outputs": [
    {
     "data": {
      "text/html": [
       "<pre style=\"word-wrap: normal;white-space: pre;background: #fff0;line-height: 1.1;font-family: &quot;Courier New&quot;,Courier,monospace\">        ┌───┐ ░                                       ░                    »\n",
       "   q_0: ┤ H ├─░─────■──────■─────────────■────────────░──────────■──────■──»\n",
       "        ├───┤ ░     │    ┌─┴─┐         ┌─┴─┐          ░ ┌───┐    │    ┌─┴─┐»\n",
       "   q_1: ┤ H ├─░─────┼────┤ X ├────■────┤ X ├────■─────░─┤ X ├────┼────┤ X ├»\n",
       "        └───┘ ░ ┌───┴───┐└───┘┌───┴───┐└───┘┌───┴───┐ ░ └───┘┌───┴───┐└───┘»\n",
       "   q_2: ──────░─┤ Ry(0) ├─────┤ Ry(0) ├─────┤ Ry(0) ├─░──────┤ Ry(0) ├─────»\n",
       "              ░ └───────┘     └───────┘     └───────┘ ░      └───────┘     »\n",
       "meas: 3/═══════════════════════════════════════════════════════════════════»\n",
       "                                                                           »\n",
       "«                                ░ ┌───┐                                     »\n",
       "«   q_0: ───────────■────────────░─┤ X ├────■──────■─────────────■───────────»\n",
       "«                 ┌─┴─┐          ░ ├───┤    │    ┌─┴─┐         ┌─┴─┐         »\n",
       "«   q_1: ────■────┤ X ├────■─────░─┤ X ├────┼────┤ X ├────■────┤ X ├────■────»\n",
       "«        ┌───┴───┐└───┘┌───┴───┐ ░ └───┘┌───┴───┐└───┘┌───┴───┐└───┘┌───┴───┐»\n",
       "«   q_2: ┤ Ry(0) ├─────┤ Ry(0) ├─░──────┤ Ry(0) ├─────┤ Ry(0) ├─────┤ Ry(0) ├»\n",
       "«        └───────┘     └───────┘ ░      └───────┘     └───────┘     └───────┘»\n",
       "«meas: 3/════════════════════════════════════════════════════════════════════»\n",
       "«                                                                            »\n",
       "«         ░                                            ░ ┌─┐      \n",
       "«   q_0: ─░──────────■──────■─────────────■────────────░─┤M├──────\n",
       "«         ░ ┌───┐    │    ┌─┴─┐         ┌─┴─┐          ░ └╥┘┌─┐   \n",
       "«   q_1: ─░─┤ X ├────┼────┤ X ├────■────┤ X ├────■─────░──╫─┤M├───\n",
       "«         ░ └───┘┌───┴───┐└───┘┌───┴───┐└───┘┌───┴───┐ ░  ║ └╥┘┌─┐\n",
       "«   q_2: ─░──────┤ Ry(0) ├─────┤ Ry(0) ├─────┤ Ry(0) ├─░──╫──╫─┤M├\n",
       "«         ░      └───────┘     └───────┘     └───────┘ ░  ║  ║ └╥┘\n",
       "«meas: 3/═════════════════════════════════════════════════╩══╩══╩═\n",
       "«                                                         0  1  2 </pre>"
      ],
      "text/plain": [
       "        ┌───┐ ░                                       ░                    »\n",
       "   q_0: ┤ H ├─░─────■──────■─────────────■────────────░──────────■──────■──»\n",
       "        ├───┤ ░     │    ┌─┴─┐         ┌─┴─┐          ░ ┌───┐    │    ┌─┴─┐»\n",
       "   q_1: ┤ H ├─░─────┼────┤ X ├────■────┤ X ├────■─────░─┤ X ├────┼────┤ X ├»\n",
       "        └───┘ ░ ┌───┴───┐└───┘┌───┴───┐└───┘┌───┴───┐ ░ └───┘┌───┴───┐└───┘»\n",
       "   q_2: ──────░─┤ Ry(0) ├─────┤ Ry(0) ├─────┤ Ry(0) ├─░──────┤ Ry(0) ├─────»\n",
       "              ░ └───────┘     └───────┘     └───────┘ ░      └───────┘     »\n",
       "meas: 3/═══════════════════════════════════════════════════════════════════»\n",
       "                                                                           »\n",
       "«                                ░ ┌───┐                                     »\n",
       "«   q_0: ───────────■────────────░─┤ X ├────■──────■─────────────■───────────»\n",
       "«                 ┌─┴─┐          ░ ├───┤    │    ┌─┴─┐         ┌─┴─┐         »\n",
       "«   q_1: ────■────┤ X ├────■─────░─┤ X ├────┼────┤ X ├────■────┤ X ├────■────»\n",
       "«        ┌───┴───┐└───┘┌───┴───┐ ░ └───┘┌───┴───┐└───┘┌───┴───┐└───┘┌───┴───┐»\n",
       "«   q_2: ┤ Ry(0) ├─────┤ Ry(0) ├─░──────┤ Ry(0) ├─────┤ Ry(0) ├─────┤ Ry(0) ├»\n",
       "«        └───────┘     └───────┘ ░      └───────┘     └───────┘     └───────┘»\n",
       "«meas: 3/════════════════════════════════════════════════════════════════════»\n",
       "«                                                                            »\n",
       "«         ░                                            ░ ┌─┐      \n",
       "«   q_0: ─░──────────■──────■─────────────■────────────░─┤M├──────\n",
       "«         ░ ┌───┐    │    ┌─┴─┐         ┌─┴─┐          ░ └╥┘┌─┐   \n",
       "«   q_1: ─░─┤ X ├────┼────┤ X ├────■────┤ X ├────■─────░──╫─┤M├───\n",
       "«         ░ └───┘┌───┴───┐└───┘┌───┴───┐└───┘┌───┴───┐ ░  ║ └╥┘┌─┐\n",
       "«   q_2: ─░──────┤ Ry(0) ├─────┤ Ry(0) ├─────┤ Ry(0) ├─░──╫──╫─┤M├\n",
       "«         ░      └───────┘     └───────┘     └───────┘ ░  ║  ║ └╥┘\n",
       "«meas: 3/═════════════════════════════════════════════════╩══╩══╩═\n",
       "«                                                         0  1  2 "
      ]
     },
     "execution_count": 2,
     "metadata": {},
     "output_type": "execute_result"
    }
   ],
   "source": [
    "theta = 0 # all pixels black\n",
    "qc = QuantumCircuit(3)\n",
    "\n",
    "\n",
    "qc.h(0)\n",
    "qc.h(1)\n",
    "\n",
    "qc.barrier()\n",
    "#Pixel 1\n",
    "\n",
    "qc.cry(theta,0,2)\n",
    "qc.cx(0,1)\n",
    "qc.cry(-theta,1,2)\n",
    "qc.cx(0,1)\n",
    "qc.cry(theta,1,2)\n",
    "\n",
    "qc.barrier()\n",
    "#Pixel 2\n",
    "\n",
    "qc.x(1)\n",
    "qc.cry(theta,0,2)\n",
    "qc.cx(0,1)\n",
    "qc.cry(-theta,1,2)\n",
    "qc.cx(0,1)\n",
    "qc.cry(theta,1,2)\n",
    "\n",
    "qc.barrier()\n",
    "\n",
    "qc.x(1)\n",
    "qc.x(0)\n",
    "qc.cry(theta,0,2)\n",
    "qc.cx(0,1)\n",
    "qc.cry(-theta,1,2)\n",
    "qc.cx(0,1)\n",
    "qc.cry(theta,1,2)\n",
    "\n",
    "\n",
    "qc.barrier()\n",
    "\n",
    "qc.x(1)\n",
    "\n",
    "qc.cry(theta,0,2)\n",
    "qc.cx(0,1)\n",
    "qc.cry(-theta,1,2)\n",
    "qc.cx(0,1)\n",
    "qc.cry(theta,1,2)\n",
    "\n",
    "qc.measure_all()\n",
    "\n",
    "qc.draw()"
   ]
  },
  {
   "cell_type": "code",
   "execution_count": 3,
   "id": "bfaabc7b-e65f-44c6-9597-20e8d430aa91",
   "metadata": {},
   "outputs": [
    {
     "name": "stdout",
     "output_type": "stream",
     "text": [
      "{'000': 1004, '010': 1006, '001': 1014, '011': 1072}\n"
     ]
    },
    {
     "data": {
      "image/png": "[encoded data removed]",
      "text/plain": [
       "<Figure size 700x500 with 1 Axes>"
      ]
     },
     "execution_count": 3,
     "metadata": {},
     "output_type": "execute_result"
    }
   ],
   "source": [
    "aer_sim = Aer.get_backend('aer_simulator')\n",
    "t_qc = transpile(qc, aer_sim)\n",
    "qobj = assemble(t_qc, shots=4096)\n",
    "result = aer_sim.run(qobj).result()\n",
    "counts = result.get_counts(qc)\n",
    "print(counts)\n",
    "plot_histogram(counts)"
   ]
  },
  {
   "cell_type": "markdown",
   "id": "d3b8f883-9037-4a72-a2e6-5a449ff1f7b8",
   "metadata": {},
   "source": [
    "Exemplo 2"
   ]
  },
  {
   "cell_type": "code",
   "execution_count": 4,
   "id": "4f09b5bb-149a-4882-9efb-fe84ef3df2c0",
   "metadata": {},
   "outputs": [
    {
     "data": {
      "text/html": [
       "<pre style=\"word-wrap: normal;white-space: pre;background: #fff0;line-height: 1.1;font-family: &quot;Courier New&quot;,Courier,monospace\">        ┌───┐ ░                                              ░                 »\n",
       "   q_0: ┤ H ├─░──────■───────■────────────────■──────────────░───────────■─────»\n",
       "        ├───┤ ░      │     ┌─┴─┐            ┌─┴─┐            ░ ┌───┐     │     »\n",
       "   q_1: ┤ H ├─░──────┼─────┤ X ├─────■──────┤ X ├─────■──────░─┤ X ├─────┼─────»\n",
       "        └───┘ ░ ┌────┴────┐└───┘┌────┴─────┐└───┘┌────┴────┐ ░ └───┘┌────┴────┐»\n",
       "   q_2: ──────░─┤ Ry(π/2) ├─────┤ Ry(-π/2) ├─────┤ Ry(π/2) ├─░──────┤ Ry(π/2) ├»\n",
       "              ░ └─────────┘     └──────────┘     └─────────┘ ░      └─────────┘»\n",
       "meas: 3/═══════════════════════════════════════════════════════════════════════»\n",
       "                                                                               »\n",
       "«                                          ░ ┌───┐                            »\n",
       "«   q_0: ──■────────────────■──────────────░─┤ X ├─────■───────■──────────────»\n",
       "«        ┌─┴─┐            ┌─┴─┐            ░ ├───┤     │     ┌─┴─┐            »\n",
       "«   q_1: ┤ X ├─────■──────┤ X ├─────■──────░─┤ X ├─────┼─────┤ X ├─────■──────»\n",
       "«        └───┘┌────┴─────┐└───┘┌────┴────┐ ░ └───┘┌────┴────┐└───┘┌────┴─────┐»\n",
       "«   q_2: ─────┤ Ry(-π/2) ├─────┤ Ry(π/2) ├─░──────┤ Ry(π/2) ├─────┤ Ry(-π/2) ├»\n",
       "«             └──────────┘     └─────────┘ ░      └─────────┘     └──────────┘»\n",
       "«meas: 3/═════════════════════════════════════════════════════════════════════»\n",
       "«                                                                             »\n",
       "«                         ░                                                  »\n",
       "«   q_0: ──■──────────────░───────────■───────■────────────────■─────────────»\n",
       "«        ┌─┴─┐            ░ ┌───┐     │     ┌─┴─┐            ┌─┴─┐           »\n",
       "«   q_1: ┤ X ├─────■──────░─┤ X ├─────┼─────┤ X ├─────■──────┤ X ├─────■─────»\n",
       "«        └───┘┌────┴────┐ ░ └───┘┌────┴────┐└───┘┌────┴─────┐└───┘┌────┴────┐»\n",
       "«   q_2: ─────┤ Ry(π/2) ├─░──────┤ Ry(π/2) ├─────┤ Ry(-π/2) ├─────┤ Ry(π/2) ├»\n",
       "«             └─────────┘ ░      └─────────┘     └──────────┘     └─────────┘»\n",
       "«meas: 3/════════════════════════════════════════════════════════════════════»\n",
       "«                                                                            »\n",
       "«         ░ ┌─┐      \n",
       "«   q_0: ─░─┤M├──────\n",
       "«         ░ └╥┘┌─┐   \n",
       "«   q_1: ─░──╫─┤M├───\n",
       "«         ░  ║ └╥┘┌─┐\n",
       "«   q_2: ─░──╫──╫─┤M├\n",
       "«         ░  ║  ║ └╥┘\n",
       "«meas: 3/════╩══╩══╩═\n",
       "«            0  1  2 </pre>"
      ],
      "text/plain": [
       "        ┌───┐ ░                                              ░                 »\n",
       "   q_0: ┤ H ├─░──────■───────■────────────────■──────────────░───────────■─────»\n",
       "        ├───┤ ░      │     ┌─┴─┐            ┌─┴─┐            ░ ┌───┐     │     »\n",
       "   q_1: ┤ H ├─░──────┼─────┤ X ├─────■──────┤ X ├─────■──────░─┤ X ├─────┼─────»\n",
       "        └───┘ ░ ┌────┴────┐└───┘┌────┴─────┐└───┘┌────┴────┐ ░ └───┘┌────┴────┐»\n",
       "   q_2: ──────░─┤ Ry(π/2) ├─────┤ Ry(-π/2) ├─────┤ Ry(π/2) ├─░──────┤ Ry(π/2) ├»\n",
       "              ░ └─────────┘     └──────────┘     └─────────┘ ░      └─────────┘»\n",
       "meas: 3/═══════════════════════════════════════════════════════════════════════»\n",
       "                                                                               »\n",
       "«                                          ░ ┌───┐                            »\n",
       "«   q_0: ──■────────────────■──────────────░─┤ X ├─────■───────■──────────────»\n",
       "«        ┌─┴─┐            ┌─┴─┐            ░ ├───┤     │     ┌─┴─┐            »\n",
       "«   q_1: ┤ X ├─────■──────┤ X ├─────■──────░─┤ X ├─────┼─────┤ X ├─────■──────»\n",
       "«        └───┘┌────┴─────┐└───┘┌────┴────┐ ░ └───┘┌────┴────┐└───┘┌────┴─────┐»\n",
       "«   q_2: ─────┤ Ry(-π/2) ├─────┤ Ry(π/2) ├─░──────┤ Ry(π/2) ├─────┤ Ry(-π/2) ├»\n",
       "«             └──────────┘     └─────────┘ ░      └─────────┘     └──────────┘»\n",
       "«meas: 3/═════════════════════════════════════════════════════════════════════»\n",
       "«                                                                             »\n",
       "«                         ░                                                  »\n",
       "«   q_0: ──■──────────────░───────────■───────■────────────────■─────────────»\n",
       "«        ┌─┴─┐            ░ ┌───┐     │     ┌─┴─┐            ┌─┴─┐           »\n",
       "«   q_1: ┤ X ├─────■──────░─┤ X ├─────┼─────┤ X ├─────■──────┤ X ├─────■─────»\n",
       "«        └───┘┌────┴────┐ ░ └───┘┌────┴────┐└───┘┌────┴─────┐└───┘┌────┴────┐»\n",
       "«   q_2: ─────┤ Ry(π/2) ├─░──────┤ Ry(π/2) ├─────┤ Ry(-π/2) ├─────┤ Ry(π/2) ├»\n",
       "«             └─────────┘ ░      └─────────┘     └──────────┘     └─────────┘»\n",
       "«meas: 3/════════════════════════════════════════════════════════════════════»\n",
       "«                                                                            »\n",
       "«         ░ ┌─┐      \n",
       "«   q_0: ─░─┤M├──────\n",
       "«         ░ └╥┘┌─┐   \n",
       "«   q_1: ─░──╫─┤M├───\n",
       "«         ░  ║ └╥┘┌─┐\n",
       "«   q_2: ─░──╫──╫─┤M├\n",
       "«         ░  ║  ║ └╥┘\n",
       "«meas: 3/════╩══╩══╩═\n",
       "«            0  1  2 "
      ]
     },
     "execution_count": 4,
     "metadata": {},
     "output_type": "execute_result"
    }
   ],
   "source": [
    "theta = pi/2  # all pixels white\n",
    "qc1 = QuantumCircuit(3)\n",
    "\n",
    "qc1.h(0)\n",
    "qc1.h(1)\n",
    "\n",
    "qc1.barrier()\n",
    "#Pixel 1\n",
    "\n",
    "qc1.cry(theta,0,2)\n",
    "qc1.cx(0,1)\n",
    "qc1.cry(-theta,1,2)\n",
    "qc1.cx(0,1)\n",
    "qc1.cry(theta,1,2)\n",
    "\n",
    "qc1.barrier()\n",
    "#Pixel 2\n",
    "\n",
    "qc1.x(1)\n",
    "\n",
    "qc1.cry(theta,0,2)\n",
    "qc1.cx(0,1)\n",
    "qc1.cry(-theta,1,2)\n",
    "qc1.cx(0,1)\n",
    "qc1.cry(theta,1,2)\n",
    "\n",
    "qc1.barrier()\n",
    "\n",
    "qc1.x(1)\n",
    "qc1.x(0)\n",
    "qc1.cry(theta,0,2)\n",
    "qc1.cx(0,1)\n",
    "qc1.cry(-theta,1,2)\n",
    "qc1.cx(0,1)\n",
    "qc1.cry(theta,1,2)\n",
    "\n",
    "\n",
    "qc1.barrier()\n",
    "\n",
    "qc1.x(1)\n",
    "\n",
    "qc1.cry(theta,0,2)\n",
    "qc1.cx(0,1)\n",
    "qc1.cry(-theta,1,2)\n",
    "qc1.cx(0,1)\n",
    "qc1.cry(theta,1,2)\n",
    "\n",
    "qc1.measure_all()\n",
    "\n",
    "qc1.draw()"
   ]
  },
  {
   "cell_type": "code",
   "execution_count": 5,
   "id": "1d77a872-308a-4833-b5a8-7e6e39148bc4",
   "metadata": {},
   "outputs": [
    {
     "name": "stdout",
     "output_type": "stream",
     "text": [
      "{'111': 1043, '110': 1053, '101': 1018, '100': 982}\n"
     ]
    },
    {
     "data": {
      "image/png": "[encoded data removed]",
      "text/plain": [
       "<Figure size 700x500 with 1 Axes>"
      ]
     },
     "execution_count": 5,
     "metadata": {},
     "output_type": "execute_result"
    }
   ],
   "source": [
    "aer_sim = Aer.get_backend('aer_simulator')\n",
    "t_qc1 = transpile(qc1, aer_sim)\n",
    "qobj = assemble(t_qc1, shots=4096)\n",
    "result = aer_sim.run(qobj).result()\n",
    "counts = result.get_counts(qc1)\n",
    "print(counts)\n",
    "plot_histogram(counts)"
   ]
  },
  {
   "cell_type": "markdown",
   "id": "24302a61-4664-44f0-a385-375f25826d82",
   "metadata": {},
   "source": [
    "Exemplo 3"
   ]
  },
  {
   "cell_type": "code",
   "execution_count": 6,
   "id": "a26b8ee0-0f35-4b6b-8a45-a921526a69d9",
   "metadata": {},
   "outputs": [
    {
     "data": {
      "text/html": [
       "<pre style=\"word-wrap: normal;white-space: pre;background: #fff0;line-height: 1.1;font-family: &quot;Courier New&quot;,Courier,monospace\">        ┌───┐ ░                                              ░                 »\n",
       "   q_0: ┤ H ├─░──────■───────■────────────────■──────────────░───────────■─────»\n",
       "        ├───┤ ░      │     ┌─┴─┐            ┌─┴─┐            ░ ┌───┐     │     »\n",
       "   q_1: ┤ H ├─░──────┼─────┤ X ├─────■──────┤ X ├─────■──────░─┤ X ├─────┼─────»\n",
       "        └───┘ ░ ┌────┴────┐└───┘┌────┴─────┐└───┘┌────┴────┐ ░ └───┘┌────┴────┐»\n",
       "   q_2: ──────░─┤ Ry(π/4) ├─────┤ Ry(-π/4) ├─────┤ Ry(π/4) ├─░──────┤ Ry(π/4) ├»\n",
       "              ░ └─────────┘     └──────────┘     └─────────┘ ░      └─────────┘»\n",
       "meas: 3/═══════════════════════════════════════════════════════════════════════»\n",
       "                                                                               »\n",
       "«                                          ░ ┌───┐                            »\n",
       "«   q_0: ──■────────────────■──────────────░─┤ X ├─────■───────■──────────────»\n",
       "«        ┌─┴─┐            ┌─┴─┐            ░ ├───┤     │     ┌─┴─┐            »\n",
       "«   q_1: ┤ X ├─────■──────┤ X ├─────■──────░─┤ X ├─────┼─────┤ X ├─────■──────»\n",
       "«        └───┘┌────┴─────┐└───┘┌────┴────┐ ░ └───┘┌────┴────┐└───┘┌────┴─────┐»\n",
       "«   q_2: ─────┤ Ry(-π/4) ├─────┤ Ry(π/4) ├─░──────┤ Ry(π/4) ├─────┤ Ry(-π/4) ├»\n",
       "«             └──────────┘     └─────────┘ ░      └─────────┘     └──────────┘»\n",
       "«meas: 3/═════════════════════════════════════════════════════════════════════»\n",
       "«                                                                             »\n",
       "«                         ░                                                  »\n",
       "«   q_0: ──■──────────────░───────────■───────■────────────────■─────────────»\n",
       "«        ┌─┴─┐            ░ ┌───┐     │     ┌─┴─┐            ┌─┴─┐           »\n",
       "«   q_1: ┤ X ├─────■──────░─┤ X ├─────┼─────┤ X ├─────■──────┤ X ├─────■─────»\n",
       "«        └───┘┌────┴────┐ ░ └───┘┌────┴────┐└───┘┌────┴─────┐└───┘┌────┴────┐»\n",
       "«   q_2: ─────┤ Ry(π/4) ├─░──────┤ Ry(π/4) ├─────┤ Ry(-π/4) ├─────┤ Ry(π/4) ├»\n",
       "«             └─────────┘ ░      └─────────┘     └──────────┘     └─────────┘»\n",
       "«meas: 3/════════════════════════════════════════════════════════════════════»\n",
       "«                                                                            »\n",
       "«         ░ ┌─┐      \n",
       "«   q_0: ─░─┤M├──────\n",
       "«         ░ └╥┘┌─┐   \n",
       "«   q_1: ─░──╫─┤M├───\n",
       "«         ░  ║ └╥┘┌─┐\n",
       "«   q_2: ─░──╫──╫─┤M├\n",
       "«         ░  ║  ║ └╥┘\n",
       "«meas: 3/════╩══╩══╩═\n",
       "«            0  1  2 </pre>"
      ],
      "text/plain": [
       "        ┌───┐ ░                                              ░                 »\n",
       "   q_0: ┤ H ├─░──────■───────■────────────────■──────────────░───────────■─────»\n",
       "        ├───┤ ░      │     ┌─┴─┐            ┌─┴─┐            ░ ┌───┐     │     »\n",
       "   q_1: ┤ H ├─░──────┼─────┤ X ├─────■──────┤ X ├─────■──────░─┤ X ├─────┼─────»\n",
       "        └───┘ ░ ┌────┴────┐└───┘┌────┴─────┐└───┘┌────┴────┐ ░ └───┘┌────┴────┐»\n",
       "   q_2: ──────░─┤ Ry(π/4) ├─────┤ Ry(-π/4) ├─────┤ Ry(π/4) ├─░──────┤ Ry(π/4) ├»\n",
       "              ░ └─────────┘     └──────────┘     └─────────┘ ░      └─────────┘»\n",
       "meas: 3/═══════════════════════════════════════════════════════════════════════»\n",
       "                                                                               »\n",
       "«                                          ░ ┌───┐                            »\n",
       "«   q_0: ──■────────────────■──────────────░─┤ X ├─────■───────■──────────────»\n",
       "«        ┌─┴─┐            ┌─┴─┐            ░ ├───┤     │     ┌─┴─┐            »\n",
       "«   q_1: ┤ X ├─────■──────┤ X ├─────■──────░─┤ X ├─────┼─────┤ X ├─────■──────»\n",
       "«        └───┘┌────┴─────┐└───┘┌────┴────┐ ░ └───┘┌────┴────┐└───┘┌────┴─────┐»\n",
       "«   q_2: ─────┤ Ry(-π/4) ├─────┤ Ry(π/4) ├─░──────┤ Ry(π/4) ├─────┤ Ry(-π/4) ├»\n",
       "«             └──────────┘     └─────────┘ ░      └─────────┘     └──────────┘»\n",
       "«meas: 3/═════════════════════════════════════════════════════════════════════»\n",
       "«                                                                             »\n",
       "«                         ░                                                  »\n",
       "«   q_0: ──■──────────────░───────────■───────■────────────────■─────────────»\n",
       "«        ┌─┴─┐            ░ ┌───┐     │     ┌─┴─┐            ┌─┴─┐           »\n",
       "«   q_1: ┤ X ├─────■──────░─┤ X ├─────┼─────┤ X ├─────■──────┤ X ├─────■─────»\n",
       "«        └───┘┌────┴────┐ ░ └───┘┌────┴────┐└───┘┌────┴─────┐└───┘┌────┴────┐»\n",
       "«   q_2: ─────┤ Ry(π/4) ├─░──────┤ Ry(π/4) ├─────┤ Ry(-π/4) ├─────┤ Ry(π/4) ├»\n",
       "«             └─────────┘ ░      └─────────┘     └──────────┘     └─────────┘»\n",
       "«meas: 3/════════════════════════════════════════════════════════════════════»\n",
       "«                                                                            »\n",
       "«         ░ ┌─┐      \n",
       "«   q_0: ─░─┤M├──────\n",
       "«         ░ └╥┘┌─┐   \n",
       "«   q_1: ─░──╫─┤M├───\n",
       "«         ░  ║ └╥┘┌─┐\n",
       "«   q_2: ─░──╫──╫─┤M├\n",
       "«         ░  ║  ║ └╥┘\n",
       "«meas: 3/════╩══╩══╩═\n",
       "«            0  1  2 "
      ]
     },
     "execution_count": 6,
     "metadata": {},
     "output_type": "execute_result"
    }
   ],
   "source": [
    "theta = pi/4  # all pixels white\n",
    "qc2 = qk.QuantumCircuit(3)\n",
    "\n",
    "qc2.h(0)\n",
    "qc2.h(1)\n",
    "\n",
    "qc2.barrier()\n",
    "#Pixel 1\n",
    "\n",
    "qc2.cry(theta,0,2)\n",
    "qc2.cx(0,1)\n",
    "qc2.cry(-theta,1,2)\n",
    "qc2.cx(0,1)\n",
    "qc2.cry(theta,1,2)\n",
    "\n",
    "qc2.barrier()\n",
    "#Pixel 2\n",
    "\n",
    "qc2.x(1)\n",
    "\n",
    "qc2.cry(theta,0,2)\n",
    "qc2.cx(0,1)\n",
    "qc2.cry(-theta,1,2)\n",
    "qc2.cx(0,1)\n",
    "qc2.cry(theta,1,2)\n",
    "\n",
    "qc2.barrier()\n",
    "\n",
    "qc2.x(1)\n",
    "qc2.x(0)\n",
    "qc2.cry(theta,0,2)\n",
    "qc2.cx(0,1)\n",
    "qc2.cry(-theta,1,2)\n",
    "qc2.cx(0,1)\n",
    "qc2.cry(theta,1,2)\n",
    "\n",
    "\n",
    "qc2.barrier()\n",
    "\n",
    "qc2.x(1)\n",
    "\n",
    "qc2.cry(theta,0,2)\n",
    "qc2.cx(0,1)\n",
    "qc2.cry(-theta,1,2)\n",
    "qc2.cx(0,1)\n",
    "qc2.cry(theta,1,2)\n",
    "\n",
    "qc2.measure_all()\n",
    "\n",
    "qc2.draw()"
   ]
  },
  {
   "cell_type": "code",
   "execution_count": 7,
   "id": "be904df1-8d0e-449c-b93b-9524d910d80f",
   "metadata": {},
   "outputs": [
    {
     "name": "stdout",
     "output_type": "stream",
     "text": [
      "{'000': 503, '110': 550, '100': 495, '001': 535, '010': 492, '111': 531, '011': 480, '101': 510}\n"
     ]
    },
    {
     "data": {
      "image/png": "[encoded data removed]",
      "text/plain": [
       "<Figure size 700x500 with 1 Axes>"
      ]
     },
     "execution_count": 7,
     "metadata": {},
     "output_type": "execute_result"
    }
   ],
   "source": [
    "aer_sim = Aer.get_backend('aer_simulator')\n",
    "t_qc2 = transpile(qc2, aer_sim)\n",
    "qobj = assemble(t_qc2, shots=4096)\n",
    "result = aer_sim.run(qobj).result()\n",
    "counts = result.get_counts(qc2)\n",
    "print(counts)\n",
    "plot_histogram(counts)"
   ]
  },
  {
   "cell_type": "markdown",
   "id": "605cebd6-0248-4b44-b60d-acfbf9b39c87",
   "metadata": {},
   "source": [
    "4->Circuit Analysis and Running on a Real Device"
   ]
  },
  {
   "cell_type": "code",
   "execution_count": 8,
   "id": "b9644790-4c11-4e27-beca-35479e5f24a3",
   "metadata": {},
   "outputs": [
    {
     "name": "stdout",
     "output_type": "stream",
     "text": [
      "Depth :  23\n",
      "Operations:  OrderedDict([('cry', 12), ('cx', 8), ('barrier', 5), ('x', 4), ('measure', 3), ('h', 2)])\n"
     ]
    }
   ],
   "source": [
    "print(\"Depth : \", qc1.depth())\n",
    "print(\"Operations: \", qc1.count_ops())"
   ]
  },
  {
   "cell_type": "code",
   "execution_count": 9,
   "id": "45259d6b-42ad-419c-a447-8b34fdd02149",
   "metadata": {},
   "outputs": [
    {
     "data": {
      "text/html": [
       "<pre style=\"word-wrap: normal;white-space: pre;background: #fff0;line-height: 1.1;font-family: &quot;Courier New&quot;,Courier,monospace\">        ┌─────────────┐ ░                                          »\n",
       "   q_0: ┤ U3(π/2,0,π) ├─░──────────────────■────────────────────■──»\n",
       "        ├─────────────┤ ░                  │                    │  »\n",
       "   q_1: ┤ U3(π/2,0,π) ├─░──────────────────┼────────────────────┼──»\n",
       "        └─────────────┘ ░ ┌─────────────┐┌─┴─┐┌──────────────┐┌─┴─┐»\n",
       "   q_2: ────────────────░─┤ U3(π/4,0,0) ├┤ X ├┤ U3(-π/4,0,0) ├┤ X ├»\n",
       "                        ░ └─────────────┘└───┘└──────────────┘└───┘»\n",
       "meas: 3/═══════════════════════════════════════════════════════════»\n",
       "                                                                   »\n",
       "«                                                                     »\n",
       "«   q_0: ───────■────────────────────────────────────────■────────────»\n",
       "«             ┌─┴─┐                                    ┌─┴─┐          »\n",
       "«   q_1: ─────┤ X ├────────■───────────────────■───────┤ X ├───────■──»\n",
       "«        ┌────┴───┴─────┐┌─┴─┐┌─────────────┐┌─┴─┐┌────┴───┴────┐┌─┴─┐»\n",
       "«   q_2: ┤ U3(-π/4,0,0) ├┤ X ├┤ U3(π/4,0,0) ├┤ X ├┤ U3(π/4,0,0) ├┤ X ├»\n",
       "«        └──────────────┘└───┘└─────────────┘└───┘└─────────────┘└───┘»\n",
       "«meas: 3/═════════════════════════════════════════════════════════════»\n",
       "«                                                                     »\n",
       "«                              ░                                          »\n",
       "«   q_0: ──────────────────────░──────────────────■────────────────────■──»\n",
       "«                              ░  ┌───────────┐   │                    │  »\n",
       "«   q_1: ──────────────────■───░──┤ U3(π,0,π) ├───┼────────────────────┼──»\n",
       "«        ┌──────────────┐┌─┴─┐ ░ ┌┴───────────┴┐┌─┴─┐┌──────────────┐┌─┴─┐»\n",
       "«   q_2: ┤ U3(-π/4,0,0) ├┤ X ├─░─┤ U3(π/4,0,0) ├┤ X ├┤ U3(-π/4,0,0) ├┤ X ├»\n",
       "«        └──────────────┘└───┘ ░ └─────────────┘└───┘└──────────────┘└───┘»\n",
       "«meas: 3/═════════════════════════════════════════════════════════════════»\n",
       "«                                                                         »\n",
       "«                                                                     »\n",
       "«   q_0: ───────■────────────────────────────────────────■────────────»\n",
       "«             ┌─┴─┐                                    ┌─┴─┐          »\n",
       "«   q_1: ─────┤ X ├────────■───────────────────■───────┤ X ├───────■──»\n",
       "«        ┌────┴───┴─────┐┌─┴─┐┌─────────────┐┌─┴─┐┌────┴───┴────┐┌─┴─┐»\n",
       "«   q_2: ┤ U3(-π/4,0,0) ├┤ X ├┤ U3(π/4,0,0) ├┤ X ├┤ U3(π/4,0,0) ├┤ X ├»\n",
       "«        └──────────────┘└───┘└─────────────┘└───┘└─────────────┘└───┘»\n",
       "«meas: 3/═════════════════════════════════════════════════════════════»\n",
       "«                                                                     »\n",
       "«                              ░  ┌───────────┐                           »\n",
       "«   q_0: ──────────────────────░──┤ U3(π,0,π) ├───■────────────────────■──»\n",
       "«                              ░  ├───────────┤   │                    │  »\n",
       "«   q_1: ──────────────────■───░──┤ U3(π,0,π) ├───┼────────────────────┼──»\n",
       "«        ┌──────────────┐┌─┴─┐ ░ ┌┴───────────┴┐┌─┴─┐┌──────────────┐┌─┴─┐»\n",
       "«   q_2: ┤ U3(-π/4,0,0) ├┤ X ├─░─┤ U3(π/4,0,0) ├┤ X ├┤ U3(-π/4,0,0) ├┤ X ├»\n",
       "«        └──────────────┘└───┘ ░ └─────────────┘└───┘└──────────────┘└───┘»\n",
       "«meas: 3/═════════════════════════════════════════════════════════════════»\n",
       "«                                                                         »\n",
       "«                                                                     »\n",
       "«   q_0: ───────■────────────────────────────────────────■────────────»\n",
       "«             ┌─┴─┐                                    ┌─┴─┐          »\n",
       "«   q_1: ─────┤ X ├────────■───────────────────■───────┤ X ├───────■──»\n",
       "«        ┌────┴───┴─────┐┌─┴─┐┌─────────────┐┌─┴─┐┌────┴───┴────┐┌─┴─┐»\n",
       "«   q_2: ┤ U3(-π/4,0,0) ├┤ X ├┤ U3(π/4,0,0) ├┤ X ├┤ U3(π/4,0,0) ├┤ X ├»\n",
       "«        └──────────────┘└───┘└─────────────┘└───┘└─────────────┘└───┘»\n",
       "«meas: 3/═════════════════════════════════════════════════════════════»\n",
       "«                                                                     »\n",
       "«                              ░                                          »\n",
       "«   q_0: ──────────────────────░──────────────────■────────────────────■──»\n",
       "«                              ░  ┌───────────┐   │                    │  »\n",
       "«   q_1: ──────────────────■───░──┤ U3(π,0,π) ├───┼────────────────────┼──»\n",
       "«        ┌──────────────┐┌─┴─┐ ░ ┌┴───────────┴┐┌─┴─┐┌──────────────┐┌─┴─┐»\n",
       "«   q_2: ┤ U3(-π/4,0,0) ├┤ X ├─░─┤ U3(π/4,0,0) ├┤ X ├┤ U3(-π/4,0,0) ├┤ X ├»\n",
       "«        └──────────────┘└───┘ ░ └─────────────┘└───┘└──────────────┘└───┘»\n",
       "«meas: 3/═════════════════════════════════════════════════════════════════»\n",
       "«                                                                         »\n",
       "«                                                                     »\n",
       "«   q_0: ───────■────────────────────────────────────────■────────────»\n",
       "«             ┌─┴─┐                                    ┌─┴─┐          »\n",
       "«   q_1: ─────┤ X ├────────■───────────────────■───────┤ X ├───────■──»\n",
       "«        ┌────┴───┴─────┐┌─┴─┐┌─────────────┐┌─┴─┐┌────┴───┴────┐┌─┴─┐»\n",
       "«   q_2: ┤ U3(-π/4,0,0) ├┤ X ├┤ U3(π/4,0,0) ├┤ X ├┤ U3(π/4,0,0) ├┤ X ├»\n",
       "«        └──────────────┘└───┘└─────────────┘└───┘└─────────────┘└───┘»\n",
       "«meas: 3/═════════════════════════════════════════════════════════════»\n",
       "«                                                                     »\n",
       "«                              ░ ┌─┐      \n",
       "«   q_0: ──────────────────────░─┤M├──────\n",
       "«                              ░ └╥┘┌─┐   \n",
       "«   q_1: ──────────────────■───░──╫─┤M├───\n",
       "«        ┌──────────────┐┌─┴─┐ ░  ║ └╥┘┌─┐\n",
       "«   q_2: ┤ U3(-π/4,0,0) ├┤ X ├─░──╫──╫─┤M├\n",
       "«        └──────────────┘└───┘ ░  ║  ║ └╥┘\n",
       "«meas: 3/═════════════════════════╩══╩══╩═\n",
       "«                                 0  1  2 </pre>"
      ],
      "text/plain": [
       "        ┌─────────────┐ ░                                          »\n",
       "   q_0: ┤ U3(π/2,0,π) ├─░──────────────────■────────────────────■──»\n",
       "        ├─────────────┤ ░                  │                    │  »\n",
       "   q_1: ┤ U3(π/2,0,π) ├─░──────────────────┼────────────────────┼──»\n",
       "        └─────────────┘ ░ ┌─────────────┐┌─┴─┐┌──────────────┐┌─┴─┐»\n",
       "   q_2: ────────────────░─┤ U3(π/4,0,0) ├┤ X ├┤ U3(-π/4,0,0) ├┤ X ├»\n",
       "                        ░ └─────────────┘└───┘└──────────────┘└───┘»\n",
       "meas: 3/═══════════════════════════════════════════════════════════»\n",
       "                                                                   »\n",
       "«                                                                     »\n",
       "«   q_0: ───────■────────────────────────────────────────■────────────»\n",
       "«             ┌─┴─┐                                    ┌─┴─┐          »\n",
       "«   q_1: ─────┤ X ├────────■───────────────────■───────┤ X ├───────■──»\n",
       "«        ┌────┴───┴─────┐┌─┴─┐┌─────────────┐┌─┴─┐┌────┴───┴────┐┌─┴─┐»\n",
       "«   q_2: ┤ U3(-π/4,0,0) ├┤ X ├┤ U3(π/4,0,0) ├┤ X ├┤ U3(π/4,0,0) ├┤ X ├»\n",
       "«        └──────────────┘└───┘└─────────────┘└───┘└─────────────┘└───┘»\n",
       "«meas: 3/═════════════════════════════════════════════════════════════»\n",
       "«                                                                     »\n",
       "«                              ░                                          »\n",
       "«   q_0: ──────────────────────░──────────────────■────────────────────■──»\n",
       "«                              ░  ┌───────────┐   │                    │  »\n",
       "«   q_1: ──────────────────■───░──┤ U3(π,0,π) ├───┼────────────────────┼──»\n",
       "«        ┌──────────────┐┌─┴─┐ ░ ┌┴───────────┴┐┌─┴─┐┌──────────────┐┌─┴─┐»\n",
       "«   q_2: ┤ U3(-π/4,0,0) ├┤ X ├─░─┤ U3(π/4,0,0) ├┤ X ├┤ U3(-π/4,0,0) ├┤ X ├»\n",
       "«        └──────────────┘└───┘ ░ └─────────────┘└───┘└──────────────┘└───┘»\n",
       "«meas: 3/═════════════════════════════════════════════════════════════════»\n",
       "«                                                                         »\n",
       "«                                                                     »\n",
       "«   q_0: ───────■────────────────────────────────────────■────────────»\n",
       "«             ┌─┴─┐                                    ┌─┴─┐          »\n",
       "«   q_1: ─────┤ X ├────────■───────────────────■───────┤ X ├───────■──»\n",
       "«        ┌────┴───┴─────┐┌─┴─┐┌─────────────┐┌─┴─┐┌────┴───┴────┐┌─┴─┐»\n",
       "«   q_2: ┤ U3(-π/4,0,0) ├┤ X ├┤ U3(π/4,0,0) ├┤ X ├┤ U3(π/4,0,0) ├┤ X ├»\n",
       "«        └──────────────┘└───┘└─────────────┘└───┘└─────────────┘└───┘»\n",
       "«meas: 3/═════════════════════════════════════════════════════════════»\n",
       "«                                                                     »\n",
       "«                              ░  ┌───────────┐                           »\n",
       "«   q_0: ──────────────────────░──┤ U3(π,0,π) ├───■────────────────────■──»\n",
       "«                              ░  ├───────────┤   │                    │  »\n",
       "«   q_1: ──────────────────■───░──┤ U3(π,0,π) ├───┼────────────────────┼──»\n",
       "«        ┌──────────────┐┌─┴─┐ ░ ┌┴───────────┴┐┌─┴─┐┌──────────────┐┌─┴─┐»\n",
       "«   q_2: ┤ U3(-π/4,0,0) ├┤ X ├─░─┤ U3(π/4,0,0) ├┤ X ├┤ U3(-π/4,0,0) ├┤ X ├»\n",
       "«        └──────────────┘└───┘ ░ └─────────────┘└───┘└──────────────┘└───┘»\n",
       "«meas: 3/═════════════════════════════════════════════════════════════════»\n",
       "«                                                                         »\n",
       "«                                                                     »\n",
       "«   q_0: ───────■────────────────────────────────────────■────────────»\n",
       "«             ┌─┴─┐                                    ┌─┴─┐          »\n",
       "«   q_1: ─────┤ X ├────────■───────────────────■───────┤ X ├───────■──»\n",
       "«        ┌────┴───┴─────┐┌─┴─┐┌─────────────┐┌─┴─┐┌────┴───┴────┐┌─┴─┐»\n",
       "«   q_2: ┤ U3(-π/4,0,0) ├┤ X ├┤ U3(π/4,0,0) ├┤ X ├┤ U3(π/4,0,0) ├┤ X ├»\n",
       "«        └──────────────┘└───┘└─────────────┘└───┘└─────────────┘└───┘»\n",
       "«meas: 3/═════════════════════════════════════════════════════════════»\n",
       "«                                                                     »\n",
       "«                              ░                                          »\n",
       "«   q_0: ──────────────────────░──────────────────■────────────────────■──»\n",
       "«                              ░  ┌───────────┐   │                    │  »\n",
       "«   q_1: ──────────────────■───░──┤ U3(π,0,π) ├───┼────────────────────┼──»\n",
       "«        ┌──────────────┐┌─┴─┐ ░ ┌┴───────────┴┐┌─┴─┐┌──────────────┐┌─┴─┐»\n",
       "«   q_2: ┤ U3(-π/4,0,0) ├┤ X ├─░─┤ U3(π/4,0,0) ├┤ X ├┤ U3(-π/4,0,0) ├┤ X ├»\n",
       "«        └──────────────┘└───┘ ░ └─────────────┘└───┘└──────────────┘└───┘»\n",
       "«meas: 3/═════════════════════════════════════════════════════════════════»\n",
       "«                                                                         »\n",
       "«                                                                     »\n",
       "«   q_0: ───────■────────────────────────────────────────■────────────»\n",
       "«             ┌─┴─┐                                    ┌─┴─┐          »\n",
       "«   q_1: ─────┤ X ├────────■───────────────────■───────┤ X ├───────■──»\n",
       "«        ┌────┴───┴─────┐┌─┴─┐┌─────────────┐┌─┴─┐┌────┴───┴────┐┌─┴─┐»\n",
       "«   q_2: ┤ U3(-π/4,0,0) ├┤ X ├┤ U3(π/4,0,0) ├┤ X ├┤ U3(π/4,0,0) ├┤ X ├»\n",
       "«        └──────────────┘└───┘└─────────────┘└───┘└─────────────┘└───┘»\n",
       "«meas: 3/═════════════════════════════════════════════════════════════»\n",
       "«                                                                     »\n",
       "«                              ░ ┌─┐      \n",
       "«   q_0: ──────────────────────░─┤M├──────\n",
       "«                              ░ └╥┘┌─┐   \n",
       "«   q_1: ──────────────────■───░──╫─┤M├───\n",
       "«        ┌──────────────┐┌─┴─┐ ░  ║ └╥┘┌─┐\n",
       "«   q_2: ┤ U3(-π/4,0,0) ├┤ X ├─░──╫──╫─┤M├\n",
       "«        └──────────────┘└───┘ ░  ║  ║ └╥┘\n",
       "«meas: 3/═════════════════════════╩══╩══╩═\n",
       "«                                 0  1  2 "
      ]
     },
     "execution_count": 9,
     "metadata": {},
     "output_type": "execute_result"
    }
   ],
   "source": [
    "from qiskit.compiler import transpile\n",
    "from qiskit.transpiler import PassManager\n",
    "from qiskit.transpiler.passes import Unroller\n",
    "pass_ = Unroller(['u3', 'cx'])\n",
    "pm = PassManager(pass_)\n",
    "new_circ = pm.run(qc1)\n",
    "new_circ.draw()"
   ]
  },
  {
   "cell_type": "code",
   "execution_count": 10,
   "id": "e7b309d6-b41c-429d-9152-eeff1ffd8051",
   "metadata": {},
   "outputs": [
    {
     "name": "stdout",
     "output_type": "stream",
     "text": [
      "Depth :  50\n",
      "Operations:  OrderedDict([('cx', 32), ('u3', 30), ('barrier', 5), ('measure', 3)])\n"
     ]
    }
   ],
   "source": [
    "print(\"Depth : \", new_circ.depth())\n",
    "print(\"Operations: \", new_circ.count_ops())"
   ]
  },
  {
   "cell_type": "code",
   "execution_count": 11,
   "id": "e1b42bb8-76c9-4b62-ac9a-7fb1e34ef3cb",
   "metadata": {},
   "outputs": [
    {
     "name": "stderr",
     "output_type": "stream",
     "text": [
      "C:\\Users\\telmo\\AppData\\Local\\Temp\\ipykernel_1432\\184118217.py:1: DeprecationWarning: The module 'qiskit.test.mock' is deprecated since Qiskit Terra 0.21.0, and will be removed 3 months or more later. Instead, you should import the desired object directly 'qiskit.providers.fake_provider'.\n",
      "  from qiskit.test.mock import FakeAthens\n"
     ]
    },
    {
     "name": "stdout",
     "output_type": "stream",
     "text": [
      "gates =  OrderedDict([('rz', 61), ('sx', 55), ('cx', 51), ('barrier', 5), ('x', 4), ('measure', 3)])\n",
      "depth =  148\n"
     ]
    }
   ],
   "source": [
    "from qiskit.test.mock import FakeAthens\n",
    "fake_athens = FakeAthens()\n",
    "# The device coupling map is needed for transpiling to correct\n",
    "# CNOT gates before simulation\n",
    "coupling_map = fake_athens.configuration().coupling_map\n",
    "optimized_3 = transpile(qc1, backend=fake_athens, seed_transpiler=11, optimization_level=3)\n",
    "print('gates = ', optimized_3.count_ops())\n",
    "print('depth = ', optimized_3.depth())"
   ]
  },
  {
   "cell_type": "markdown",
   "id": "dc3f6048-bf76-4005-a47b-7a7dbbdf4192",
   "metadata": {},
   "source": [
    "4.2 Run on a Real Device"
   ]
  },
  {
   "cell_type": "code",
   "execution_count": 20,
   "id": "544f20c8-c898-40dc-88f4-6cb338ed2f18",
   "metadata": {},
   "outputs": [],
   "source": [
    "from qiskit import IBMQ\n",
    "IBMQ.save_account('7a306144e9166440d524c79fc7139a205221b592a1fccd7066dfec748b520f04aa1b1dbe2ae98e5860d603761dede5e6c205f0d841a00094dd1d532beddfac7a',overwrite=True)"
   ]
  },
  {
   "cell_type": "code",
   "execution_count": 21,
   "id": "5f085ec0-a54d-4f0e-b1af-d24665566384",
   "metadata": {},
   "outputs": [
    {
     "name": "stderr",
     "output_type": "stream",
     "text": [
      "ibmqfactory.load_account:WARNING:2022-12-28 15:25:15,487: Credentials are already in use. The existing account in the session will be replaced.\n"
     ]
    },
    {
     "name": "stdout",
     "output_type": "stream",
     "text": [
      "least busy backend:  ibmq_quito\n"
     ]
    }
   ],
   "source": [
    "# Load IBM Q account and get the least busy backend device\n",
    "from qiskit.providers.ibmq import least_busy\n",
    "n=3\n",
    "IBMQ.load_account()\n",
    "provider = IBMQ.get_provider(hub='ibm-q')\n",
    "backend = least_busy(provider.backends(filters=lambda x: x.configuration().n_qubits >= (n+1) and\n",
    "                                   not x.configuration().simulator and x.status().operational==True))\n",
    "print(\"least busy backend: \", backend)"
   ]
  },
  {
   "cell_type": "code",
   "execution_count": 27,
   "id": "0dbb7376-515f-4bc2-9b67-10eacdbe2385",
   "metadata": {},
   "outputs": [
    {
     "name": "stdout",
     "output_type": "stream",
     "text": [
      "Job Status: job has successfully run\n"
     ]
    }
   ],
   "source": [
    "# Run our circuit on the least busy backend. Monitor the execution of the job in the queue\n",
    "from qiskit.tools.monitor import job_monitor\n",
    "\n",
    "tqc2= transpile(qc2, backend, optimization_level=3)\n",
    "job = backend.run(tqc2)\n",
    "job_monitor(job, interval=2)"
   ]
  },
  {
   "cell_type": "code",
   "execution_count": 28,
   "id": "bd3ee6ec-88bf-436b-bd61-8496fd5e17aa",
   "metadata": {},
   "outputs": [
    {
     "data": {
      "image/png": "[encoded data removed]",
      "text/plain": [
       "<Figure size 700x500 with 1 Axes>"
      ]
     },
     "execution_count": 28,
     "metadata": {},
     "output_type": "execute_result"
    }
   ],
   "source": [
    "# Get the results of the computation\n",
    "results = job.result()\n",
    "answer = results.get_counts()\n",
    "\n",
    "plot_histogram(answer)"
   ]
  },
  {
   "cell_type": "markdown",
   "id": "f91beaf3-dd2c-4778-83ef-c7fa8bd7ff25",
   "metadata": {},
   "source": [
    "The ideal simulated circuit is shown below"
   ]
  },
  {
   "cell_type": "code",
   "execution_count": 29,
   "id": "408122bf-678d-4efc-a9e5-ecdd0cc60afd",
   "metadata": {},
   "outputs": [
    {
     "name": "stdout",
     "output_type": "stream",
     "text": [
      "{'110': 554, '111': 500, '011': 530, '100': 507, '001': 485, '101': 467, '000': 527, '010': 526}\n"
     ]
    },
    {
     "data": {
      "image/png": "[encoded data removed]",
      "text/plain": [
       "<Figure size 700x500 with 1 Axes>"
      ]
     },
     "execution_count": 29,
     "metadata": {},
     "output_type": "execute_result"
    }
   ],
   "source": [
    "aer_sim = Aer.get_backend('aer_simulator')\n",
    "qobj = assemble(tqc2, shots=4096)\n",
    "result = aer_sim.run(qobj).result()\n",
    "counts = result.get_counts(qc2)\n",
    "print(counts)\n",
    "plot_histogram(counts)"
   ]
  },
  {
   "cell_type": "code",
   "execution_count": null,
   "id": "d2f2753a-dccc-484b-9b82-7d92a747c3cd",
   "metadata": {},
   "outputs": [],
   "source": [
    "The NEQR Process"
   ]
  },
  {
   "cell_type": "code",
   "execution_count": 2,
   "id": "7be61233-b0bc-46c1-953e-e53667cfe970",
   "metadata": {},
   "outputs": [
    {
     "data": {
      "text/html": [
       "<pre style=\"word-wrap: normal;white-space: pre;background: #fff0;line-height: 1.1;font-family: &quot;Courier New&quot;,Courier,monospace\">             \n",
       "intensity_0: \n",
       "             \n",
       "intensity_1: \n",
       "             \n",
       "intensity_2: \n",
       "             \n",
       "intensity_3: \n",
       "             \n",
       "intensity_4: \n",
       "             \n",
       "intensity_5: \n",
       "             \n",
       "intensity_6: \n",
       "             \n",
       "intensity_7: \n",
       "             \n",
       "      idx_0: \n",
       "             \n",
       "      idx_1: \n",
       "             \n",
       "      cr: 10/\n",
       "             </pre>"
      ],
      "text/plain": [
       "             \n",
       "intensity_0: \n",
       "             \n",
       "intensity_1: \n",
       "             \n",
       "intensity_2: \n",
       "             \n",
       "intensity_3: \n",
       "             \n",
       "intensity_4: \n",
       "             \n",
       "intensity_5: \n",
       "             \n",
       "intensity_6: \n",
       "             \n",
       "intensity_7: \n",
       "             \n",
       "      idx_0: \n",
       "             \n",
       "      idx_1: \n",
       "             \n",
       "      cr: 10/\n",
       "             "
      ]
     },
     "execution_count": 2,
     "metadata": {},
     "output_type": "execute_result"
    }
   ],
   "source": [
    "import numpy as np\n",
    "from qiskit import QuantumRegister, ClassicalRegister\n",
    "\n",
    "# Initialize the quantum circuit for the image \n",
    "# Pixel position\n",
    "idx = QuantumRegister(2, 'idx')\n",
    "# grayscale pixel intensity value\n",
    "intensity = QuantumRegister(8,'intensity')\n",
    "# classical register\n",
    "cr = ClassicalRegister(10, 'cr')\n",
    "\n",
    "# create the quantum circuit for the image\n",
    "qc_image = QuantumCircuit(intensity, idx, cr)\n",
    "\n",
    "# set the total number of qubits\n",
    "num_qubits = qc_image.num_qubits\n",
    "\n",
    "qc_image.draw()"
   ]
  },
  {
   "cell_type": "code",
   "execution_count": 31,
   "id": "427af94c-9b9c-4fdd-90f1-c43c3b45e429",
   "metadata": {},
   "outputs": [
    {
     "data": {
      "text/html": [
       "<pre style=\"word-wrap: normal;white-space: pre;background: #fff0;line-height: 1.1;font-family: &quot;Courier New&quot;,Courier,monospace\">             ┌───┐ ░ \n",
       "intensity_0: ┤ I ├─░─\n",
       "             ├───┤ ░ \n",
       "intensity_1: ┤ I ├─░─\n",
       "             ├───┤ ░ \n",
       "intensity_2: ┤ I ├─░─\n",
       "             ├───┤ ░ \n",
       "intensity_3: ┤ I ├─░─\n",
       "             ├───┤ ░ \n",
       "intensity_4: ┤ I ├─░─\n",
       "             ├───┤ ░ \n",
       "intensity_5: ┤ I ├─░─\n",
       "             ├───┤ ░ \n",
       "intensity_6: ┤ I ├─░─\n",
       "             ├───┤ ░ \n",
       "intensity_7: ┤ I ├─░─\n",
       "             ├───┤ ░ \n",
       "      idx_0: ┤ H ├─░─\n",
       "             ├───┤ ░ \n",
       "      idx_1: ┤ H ├─░─\n",
       "             └───┘ ░ \n",
       "      cr: 10/════════\n",
       "                     </pre>"
      ],
      "text/plain": [
       "             ┌───┐ ░ \n",
       "intensity_0: ┤ I ├─░─\n",
       "             ├───┤ ░ \n",
       "intensity_1: ┤ I ├─░─\n",
       "             ├───┤ ░ \n",
       "intensity_2: ┤ I ├─░─\n",
       "             ├───┤ ░ \n",
       "intensity_3: ┤ I ├─░─\n",
       "             ├───┤ ░ \n",
       "intensity_4: ┤ I ├─░─\n",
       "             ├───┤ ░ \n",
       "intensity_5: ┤ I ├─░─\n",
       "             ├───┤ ░ \n",
       "intensity_6: ┤ I ├─░─\n",
       "             ├───┤ ░ \n",
       "intensity_7: ┤ I ├─░─\n",
       "             ├───┤ ░ \n",
       "      idx_0: ┤ H ├─░─\n",
       "             ├───┤ ░ \n",
       "      idx_1: ┤ H ├─░─\n",
       "             └───┘ ░ \n",
       "      cr: 10/════════\n",
       "                     "
      ]
     },
     "execution_count": 31,
     "metadata": {},
     "output_type": "execute_result"
    }
   ],
   "source": [
    "# Initialize the quantum circuit\n",
    "\n",
    "# Optional: Add Identity gates to the intensity values\n",
    "for idx in range(intensity.size):\n",
    "    qc_image.i(idx)\n",
    "\n",
    "# Add Hadamard gates to the pixel positions    \n",
    "qc_image.h(8)\n",
    "qc_image.h(9)\n",
    "\n",
    "# Separate with barrier so it is easy to read later.\n",
    "qc_image.barrier()\n",
    "qc_image.draw()"
   ]
  },
  {
   "cell_type": "code",
   "execution_count": 32,
   "id": "bf2f7fa2-d580-4546-abf5-3814fe181b09",
   "metadata": {},
   "outputs": [
    {
     "data": {
      "text/html": [
       "<pre style=\"word-wrap: normal;white-space: pre;background: #fff0;line-height: 1.1;font-family: &quot;Courier New&quot;,Courier,monospace\">             ┌───┐ ░ ┌───┐ ░ \n",
       "intensity_0: ┤ I ├─░─┤ I ├─░─\n",
       "             ├───┤ ░ ├───┤ ░ \n",
       "intensity_1: ┤ I ├─░─┤ I ├─░─\n",
       "             ├───┤ ░ ├───┤ ░ \n",
       "intensity_2: ┤ I ├─░─┤ I ├─░─\n",
       "             ├───┤ ░ ├───┤ ░ \n",
       "intensity_3: ┤ I ├─░─┤ I ├─░─\n",
       "             ├───┤ ░ ├───┤ ░ \n",
       "intensity_4: ┤ I ├─░─┤ I ├─░─\n",
       "             ├───┤ ░ ├───┤ ░ \n",
       "intensity_5: ┤ I ├─░─┤ I ├─░─\n",
       "             ├───┤ ░ ├───┤ ░ \n",
       "intensity_6: ┤ I ├─░─┤ I ├─░─\n",
       "             ├───┤ ░ ├───┤ ░ \n",
       "intensity_7: ┤ I ├─░─┤ I ├─░─\n",
       "             ├───┤ ░ ├───┤ ░ \n",
       "      idx_0: ┤ H ├─░─┤ I ├─░─\n",
       "             ├───┤ ░ ├───┤ ░ \n",
       "      idx_1: ┤ H ├─░─┤ I ├─░─\n",
       "             └───┘ ░ └───┘ ░ \n",
       "      cr: 10/════════════════\n",
       "                             </pre>"
      ],
      "text/plain": [
       "             ┌───┐ ░ ┌───┐ ░ \n",
       "intensity_0: ┤ I ├─░─┤ I ├─░─\n",
       "             ├───┤ ░ ├───┤ ░ \n",
       "intensity_1: ┤ I ├─░─┤ I ├─░─\n",
       "             ├───┤ ░ ├───┤ ░ \n",
       "intensity_2: ┤ I ├─░─┤ I ├─░─\n",
       "             ├───┤ ░ ├───┤ ░ \n",
       "intensity_3: ┤ I ├─░─┤ I ├─░─\n",
       "             ├───┤ ░ ├───┤ ░ \n",
       "intensity_4: ┤ I ├─░─┤ I ├─░─\n",
       "             ├───┤ ░ ├───┤ ░ \n",
       "intensity_5: ┤ I ├─░─┤ I ├─░─\n",
       "             ├───┤ ░ ├───┤ ░ \n",
       "intensity_6: ┤ I ├─░─┤ I ├─░─\n",
       "             ├───┤ ░ ├───┤ ░ \n",
       "intensity_7: ┤ I ├─░─┤ I ├─░─\n",
       "             ├───┤ ░ ├───┤ ░ \n",
       "      idx_0: ┤ H ├─░─┤ I ├─░─\n",
       "             ├───┤ ░ ├───┤ ░ \n",
       "      idx_1: ┤ H ├─░─┤ I ├─░─\n",
       "             └───┘ ░ └───┘ ░ \n",
       "      cr: 10/════════════════\n",
       "                             "
      ]
     },
     "execution_count": 32,
     "metadata": {},
     "output_type": "execute_result"
    }
   ],
   "source": [
    "# Encode the first pixel, since its value is 0, we will apply ID gates here:\n",
    "for idx in range(num_qubits):\n",
    "    qc_image.i(idx)\n",
    "\n",
    "qc_image.barrier()\n",
    "qc_image.draw()"
   ]
  },
  {
   "cell_type": "code",
   "execution_count": 33,
   "id": "e547b088-a73f-46f2-bd1c-a0011cac4a42",
   "metadata": {},
   "outputs": [
    {
     "data": {
      "text/html": [
       "<pre style=\"word-wrap: normal;white-space: pre;background: #fff0;line-height: 1.1;font-family: &quot;Courier New&quot;,Courier,monospace\">             ┌───┐ ░ ┌───┐ ░                           ░ \n",
       "intensity_0: ┤ I ├─░─┤ I ├─░───────────────────────────░─\n",
       "             ├───┤ ░ ├───┤ ░                           ░ \n",
       "intensity_1: ┤ I ├─░─┤ I ├─░───────────────────────────░─\n",
       "             ├───┤ ░ ├───┤ ░      ┌───┐                ░ \n",
       "intensity_2: ┤ I ├─░─┤ I ├─░──────┤ X ├────────────────░─\n",
       "             ├───┤ ░ ├───┤ ░      └─┬─┘                ░ \n",
       "intensity_3: ┤ I ├─░─┤ I ├─░────────┼──────────────────░─\n",
       "             ├───┤ ░ ├───┤ ░        │                  ░ \n",
       "intensity_4: ┤ I ├─░─┤ I ├─░────────┼──────────────────░─\n",
       "             ├───┤ ░ ├───┤ ░        │  ┌───┐           ░ \n",
       "intensity_5: ┤ I ├─░─┤ I ├─░────────┼──┤ X ├───────────░─\n",
       "             ├───┤ ░ ├───┤ ░        │  └─┬─┘┌───┐      ░ \n",
       "intensity_6: ┤ I ├─░─┤ I ├─░────────┼────┼──┤ X ├──────░─\n",
       "             ├───┤ ░ ├───┤ ░        │    │  └─┬─┘      ░ \n",
       "intensity_7: ┤ I ├─░─┤ I ├─░────────┼────┼────┼────────░─\n",
       "             ├───┤ ░ ├───┤ ░        │    │    │        ░ \n",
       "      idx_0: ┤ H ├─░─┤ I ├─░────────■────■────■────────░─\n",
       "             ├───┤ ░ ├───┤ ░ ┌───┐  │    │    │  ┌───┐ ░ \n",
       "      idx_1: ┤ H ├─░─┤ I ├─░─┤ X ├──■────■────■──┤ X ├─░─\n",
       "             └───┘ ░ └───┘ ░ └───┘               └───┘ ░ \n",
       "      cr: 10/════════════════════════════════════════════\n",
       "                                                         </pre>"
      ],
      "text/plain": [
       "             ┌───┐ ░ ┌───┐ ░                           ░ \n",
       "intensity_0: ┤ I ├─░─┤ I ├─░───────────────────────────░─\n",
       "             ├───┤ ░ ├───┤ ░                           ░ \n",
       "intensity_1: ┤ I ├─░─┤ I ├─░───────────────────────────░─\n",
       "             ├───┤ ░ ├───┤ ░      ┌───┐                ░ \n",
       "intensity_2: ┤ I ├─░─┤ I ├─░──────┤ X ├────────────────░─\n",
       "             ├───┤ ░ ├───┤ ░      └─┬─┘                ░ \n",
       "intensity_3: ┤ I ├─░─┤ I ├─░────────┼──────────────────░─\n",
       "             ├───┤ ░ ├───┤ ░        │                  ░ \n",
       "intensity_4: ┤ I ├─░─┤ I ├─░────────┼──────────────────░─\n",
       "             ├───┤ ░ ├───┤ ░        │  ┌───┐           ░ \n",
       "intensity_5: ┤ I ├─░─┤ I ├─░────────┼──┤ X ├───────────░─\n",
       "             ├───┤ ░ ├───┤ ░        │  └─┬─┘┌───┐      ░ \n",
       "intensity_6: ┤ I ├─░─┤ I ├─░────────┼────┼──┤ X ├──────░─\n",
       "             ├───┤ ░ ├───┤ ░        │    │  └─┬─┘      ░ \n",
       "intensity_7: ┤ I ├─░─┤ I ├─░────────┼────┼────┼────────░─\n",
       "             ├───┤ ░ ├───┤ ░        │    │    │        ░ \n",
       "      idx_0: ┤ H ├─░─┤ I ├─░────────■────■────■────────░─\n",
       "             ├───┤ ░ ├───┤ ░ ┌───┐  │    │    │  ┌───┐ ░ \n",
       "      idx_1: ┤ H ├─░─┤ I ├─░─┤ X ├──■────■────■──┤ X ├─░─\n",
       "             └───┘ ░ └───┘ ░ └───┘               └───┘ ░ \n",
       "      cr: 10/════════════════════════════════════════════\n",
       "                                                         "
      ]
     },
     "execution_count": 33,
     "metadata": {},
     "output_type": "execute_result"
    }
   ],
   "source": [
    "# Encode the second pixel whose value is (01100100):\n",
    "value01 = '01100100'\n",
    "\n",
    "# Add the NOT gate to set the position at 01:\n",
    "qc_image.x(qc_image.num_qubits-1)\n",
    "\n",
    "# We'll reverse order the value so it is in the same order when measured.\n",
    "for idx, px_value in enumerate(value01[::-1]):\n",
    "    if(px_value=='1'):\n",
    "        qc_image.ccx(num_qubits-1, num_qubits-2, idx)\n",
    "\n",
    "# Reset the NOT gate\n",
    "qc_image.x(num_qubits-1)\n",
    "\n",
    "qc_image.barrier()\n",
    "qc_image.draw()"
   ]
  },
  {
   "cell_type": "code",
   "execution_count": 34,
   "id": "360ea9a8-d2c8-47b9-be43-06dadfb5ea2e",
   "metadata": {},
   "outputs": [
    {
     "data": {
      "text/html": [
       "<pre style=\"word-wrap: normal;white-space: pre;background: #fff0;line-height: 1.1;font-family: &quot;Courier New&quot;,Courier,monospace\">             ┌───┐ ░ ┌───┐ ░                           ░                     »\n",
       "intensity_0: ┤ I ├─░─┤ I ├─░───────────────────────────░─────────────────────»\n",
       "             ├───┤ ░ ├───┤ ░                           ░                     »\n",
       "intensity_1: ┤ I ├─░─┤ I ├─░───────────────────────────░─────────────────────»\n",
       "             ├───┤ ░ ├───┤ ░      ┌───┐                ░                     »\n",
       "intensity_2: ┤ I ├─░─┤ I ├─░──────┤ X ├────────────────░─────────────────────»\n",
       "             ├───┤ ░ ├───┤ ░      └─┬─┘                ░      ┌───┐          »\n",
       "intensity_3: ┤ I ├─░─┤ I ├─░────────┼──────────────────░──────┤ X ├──────────»\n",
       "             ├───┤ ░ ├───┤ ░        │                  ░      └─┬─┘          »\n",
       "intensity_4: ┤ I ├─░─┤ I ├─░────────┼──────────────────░────────┼────────────»\n",
       "             ├───┤ ░ ├───┤ ░        │  ┌───┐           ░        │            »\n",
       "intensity_5: ┤ I ├─░─┤ I ├─░────────┼──┤ X ├───────────░────────┼────────────»\n",
       "             ├───┤ ░ ├───┤ ░        │  └─┬─┘┌───┐      ░        │  ┌───┐     »\n",
       "intensity_6: ┤ I ├─░─┤ I ├─░────────┼────┼──┤ X ├──────░────────┼──┤ X ├─────»\n",
       "             ├───┤ ░ ├───┤ ░        │    │  └─┬─┘      ░        │  └─┬─┘┌───┐»\n",
       "intensity_7: ┤ I ├─░─┤ I ├─░────────┼────┼────┼────────░────────┼────┼──┤ X ├»\n",
       "             ├───┤ ░ ├───┤ ░        │    │    │        ░ ┌───┐  │    │  └─┬─┘»\n",
       "      idx_0: ┤ H ├─░─┤ I ├─░────────■────■────■────────░─┤ X ├──■────■────■──»\n",
       "             ├───┤ ░ ├───┤ ░ ┌───┐  │    │    │  ┌───┐ ░ └───┘  │    │    │  »\n",
       "      idx_1: ┤ H ├─░─┤ I ├─░─┤ X ├──■────■────■──┤ X ├─░────────■────■────■──»\n",
       "             └───┘ ░ └───┘ ░ └───┘               └───┘ ░                     »\n",
       "      cr: 10/════════════════════════════════════════════════════════════════»\n",
       "                                                                             »\n",
       "«                   ░ \n",
       "«intensity_0: ──────░─\n",
       "«                   ░ \n",
       "«intensity_1: ──────░─\n",
       "«                   ░ \n",
       "«intensity_2: ──────░─\n",
       "«                   ░ \n",
       "«intensity_3: ──────░─\n",
       "«                   ░ \n",
       "«intensity_4: ──────░─\n",
       "«                   ░ \n",
       "«intensity_5: ──────░─\n",
       "«                   ░ \n",
       "«intensity_6: ──────░─\n",
       "«                   ░ \n",
       "«intensity_7: ──────░─\n",
       "«             ┌───┐ ░ \n",
       "«      idx_0: ┤ X ├─░─\n",
       "«             └───┘ ░ \n",
       "«      idx_1: ──────░─\n",
       "«                   ░ \n",
       "«      cr: 10/════════\n",
       "«                     </pre>"
      ],
      "text/plain": [
       "             ┌───┐ ░ ┌───┐ ░                           ░                     »\n",
       "intensity_0: ┤ I ├─░─┤ I ├─░───────────────────────────░─────────────────────»\n",
       "             ├───┤ ░ ├───┤ ░                           ░                     »\n",
       "intensity_1: ┤ I ├─░─┤ I ├─░───────────────────────────░─────────────────────»\n",
       "             ├───┤ ░ ├───┤ ░      ┌───┐                ░                     »\n",
       "intensity_2: ┤ I ├─░─┤ I ├─░──────┤ X ├────────────────░─────────────────────»\n",
       "             ├───┤ ░ ├───┤ ░      └─┬─┘                ░      ┌───┐          »\n",
       "intensity_3: ┤ I ├─░─┤ I ├─░────────┼──────────────────░──────┤ X ├──────────»\n",
       "             ├───┤ ░ ├───┤ ░        │                  ░      └─┬─┘          »\n",
       "intensity_4: ┤ I ├─░─┤ I ├─░────────┼──────────────────░────────┼────────────»\n",
       "             ├───┤ ░ ├───┤ ░        │  ┌───┐           ░        │            »\n",
       "intensity_5: ┤ I ├─░─┤ I ├─░────────┼──┤ X ├───────────░────────┼────────────»\n",
       "             ├───┤ ░ ├───┤ ░        │  └─┬─┘┌───┐      ░        │  ┌───┐     »\n",
       "intensity_6: ┤ I ├─░─┤ I ├─░────────┼────┼──┤ X ├──────░────────┼──┤ X ├─────»\n",
       "             ├───┤ ░ ├───┤ ░        │    │  └─┬─┘      ░        │  └─┬─┘┌───┐»\n",
       "intensity_7: ┤ I ├─░─┤ I ├─░────────┼────┼────┼────────░────────┼────┼──┤ X ├»\n",
       "             ├───┤ ░ ├───┤ ░        │    │    │        ░ ┌───┐  │    │  └─┬─┘»\n",
       "      idx_0: ┤ H ├─░─┤ I ├─░────────■────■────■────────░─┤ X ├──■────■────■──»\n",
       "             ├───┤ ░ ├───┤ ░ ┌───┐  │    │    │  ┌───┐ ░ └───┘  │    │    │  »\n",
       "      idx_1: ┤ H ├─░─┤ I ├─░─┤ X ├──■────■────■──┤ X ├─░────────■────■────■──»\n",
       "             └───┘ ░ └───┘ ░ └───┘               └───┘ ░                     »\n",
       "      cr: 10/════════════════════════════════════════════════════════════════»\n",
       "                                                                             »\n",
       "«                   ░ \n",
       "«intensity_0: ──────░─\n",
       "«                   ░ \n",
       "«intensity_1: ──────░─\n",
       "«                   ░ \n",
       "«intensity_2: ──────░─\n",
       "«                   ░ \n",
       "«intensity_3: ──────░─\n",
       "«                   ░ \n",
       "«intensity_4: ──────░─\n",
       "«                   ░ \n",
       "«intensity_5: ──────░─\n",
       "«                   ░ \n",
       "«intensity_6: ──────░─\n",
       "«                   ░ \n",
       "«intensity_7: ──────░─\n",
       "«             ┌───┐ ░ \n",
       "«      idx_0: ┤ X ├─░─\n",
       "«             └───┘ ░ \n",
       "«      idx_1: ──────░─\n",
       "«                   ░ \n",
       "«      cr: 10/════════\n",
       "«                     "
      ]
     },
     "execution_count": 34,
     "metadata": {},
     "output_type": "execute_result"
    }
   ],
   "source": [
    "# Encode the third pixel whose value is (11001000):\n",
    "value10 = '11001000'\n",
    "\n",
    "# Add the 0CNOT gates, where 0 is on X pixel:\n",
    "qc_image.x(num_qubits-2)\n",
    "for idx, px_value in enumerate(value10[::-1]):\n",
    "    if(px_value=='1'):\n",
    "        qc_image.ccx(num_qubits-1, num_qubits-2, idx)\n",
    "qc_image.x(num_qubits-2)\n",
    "\n",
    "\n",
    "qc_image.barrier()\n",
    "qc_image.draw()"
   ]
  },
  {
   "cell_type": "code",
   "execution_count": 35,
   "id": "10539fd2-13dd-404b-ab59-843eb35b83c9",
   "metadata": {},
   "outputs": [
    {
     "data": {
      "text/html": [
       "<pre style=\"word-wrap: normal;white-space: pre;background: #fff0;line-height: 1.1;font-family: &quot;Courier New&quot;,Courier,monospace\">             ┌───┐ ░ ┌───┐ ░                           ░                     »\n",
       "intensity_0: ┤ I ├─░─┤ I ├─░───────────────────────────░─────────────────────»\n",
       "             ├───┤ ░ ├───┤ ░                           ░                     »\n",
       "intensity_1: ┤ I ├─░─┤ I ├─░───────────────────────────░─────────────────────»\n",
       "             ├───┤ ░ ├───┤ ░      ┌───┐                ░                     »\n",
       "intensity_2: ┤ I ├─░─┤ I ├─░──────┤ X ├────────────────░─────────────────────»\n",
       "             ├───┤ ░ ├───┤ ░      └─┬─┘                ░      ┌───┐          »\n",
       "intensity_3: ┤ I ├─░─┤ I ├─░────────┼──────────────────░──────┤ X ├──────────»\n",
       "             ├───┤ ░ ├───┤ ░        │                  ░      └─┬─┘          »\n",
       "intensity_4: ┤ I ├─░─┤ I ├─░────────┼──────────────────░────────┼────────────»\n",
       "             ├───┤ ░ ├───┤ ░        │  ┌───┐           ░        │            »\n",
       "intensity_5: ┤ I ├─░─┤ I ├─░────────┼──┤ X ├───────────░────────┼────────────»\n",
       "             ├───┤ ░ ├───┤ ░        │  └─┬─┘┌───┐      ░        │  ┌───┐     »\n",
       "intensity_6: ┤ I ├─░─┤ I ├─░────────┼────┼──┤ X ├──────░────────┼──┤ X ├─────»\n",
       "             ├───┤ ░ ├───┤ ░        │    │  └─┬─┘      ░        │  └─┬─┘┌───┐»\n",
       "intensity_7: ┤ I ├─░─┤ I ├─░────────┼────┼────┼────────░────────┼────┼──┤ X ├»\n",
       "             ├───┤ ░ ├───┤ ░        │    │    │        ░ ┌───┐  │    │  └─┬─┘»\n",
       "      idx_0: ┤ H ├─░─┤ I ├─░────────■────■────■────────░─┤ X ├──■────■────■──»\n",
       "             ├───┤ ░ ├───┤ ░ ┌───┐  │    │    │  ┌───┐ ░ └───┘  │    │    │  »\n",
       "      idx_1: ┤ H ├─░─┤ I ├─░─┤ X ├──■────■────■──┤ X ├─░────────■────■────■──»\n",
       "             └───┘ ░ └───┘ ░ └───┘               └───┘ ░                     »\n",
       "      cr: 10/════════════════════════════════════════════════════════════════»\n",
       "                                                                             »\n",
       "«                   ░ ┌───┐                                    ░ ┌─┐         »\n",
       "«intensity_0: ──────░─┤ X ├────────────────────────────────────░─┤M├─────────»\n",
       "«                   ░ └─┬─┘┌───┐                               ░ └╥┘┌─┐      »\n",
       "«intensity_1: ──────░───┼──┤ X ├───────────────────────────────░──╫─┤M├──────»\n",
       "«                   ░   │  └─┬─┘┌───┐                          ░  ║ └╥┘┌─┐   »\n",
       "«intensity_2: ──────░───┼────┼──┤ X ├──────────────────────────░──╫──╫─┤M├───»\n",
       "«                   ░   │    │  └─┬─┘┌───┐                     ░  ║  ║ └╥┘┌─┐»\n",
       "«intensity_3: ──────░───┼────┼────┼──┤ X ├─────────────────────░──╫──╫──╫─┤M├»\n",
       "«                   ░   │    │    │  └─┬─┘┌───┐                ░  ║  ║  ║ └╥┘»\n",
       "«intensity_4: ──────░───┼────┼────┼────┼──┤ X ├────────────────░──╫──╫──╫──╫─»\n",
       "«                   ░   │    │    │    │  └─┬─┘┌───┐           ░  ║  ║  ║  ║ »\n",
       "«intensity_5: ──────░───┼────┼────┼────┼────┼──┤ X ├───────────░──╫──╫──╫──╫─»\n",
       "«                   ░   │    │    │    │    │  └─┬─┘┌───┐      ░  ║  ║  ║  ║ »\n",
       "«intensity_6: ──────░───┼────┼────┼────┼────┼────┼──┤ X ├──────░──╫──╫──╫──╫─»\n",
       "«                   ░   │    │    │    │    │    │  └─┬─┘┌───┐ ░  ║  ║  ║  ║ »\n",
       "«intensity_7: ──────░───┼────┼────┼────┼────┼────┼────┼──┤ X ├─░──╫──╫──╫──╫─»\n",
       "«             ┌───┐ ░   │    │    │    │    │    │    │  └─┬─┘ ░  ║  ║  ║  ║ »\n",
       "«      idx_0: ┤ X ├─░───■────■────■────■────■────■────■────■───░──╫──╫──╫──╫─»\n",
       "«             └───┘ ░   │    │    │    │    │    │    │    │   ░  ║  ║  ║  ║ »\n",
       "«      idx_1: ──────░───■────■────■────■────■────■────■────■───░──╫──╫──╫──╫─»\n",
       "«                   ░                                          ░  ║  ║  ║  ║ »\n",
       "«      cr: 10/════════════════════════════════════════════════════╩══╩══╩══╩═»\n",
       "«                                                                 0  1  2  3 »\n",
       "«                               \n",
       "«intensity_0: ──────────────────\n",
       "«                               \n",
       "«intensity_1: ──────────────────\n",
       "«                               \n",
       "«intensity_2: ──────────────────\n",
       "«                               \n",
       "«intensity_3: ──────────────────\n",
       "«             ┌─┐               \n",
       "«intensity_4: ┤M├───────────────\n",
       "«             └╥┘┌─┐            \n",
       "«intensity_5: ─╫─┤M├────────────\n",
       "«              ║ └╥┘┌─┐         \n",
       "«intensity_6: ─╫──╫─┤M├─────────\n",
       "«              ║  ║ └╥┘┌─┐      \n",
       "«intensity_7: ─╫──╫──╫─┤M├──────\n",
       "«              ║  ║  ║ └╥┘┌─┐   \n",
       "«      idx_0: ─╫──╫──╫──╫─┤M├───\n",
       "«              ║  ║  ║  ║ └╥┘┌─┐\n",
       "«      idx_1: ─╫──╫──╫──╫──╫─┤M├\n",
       "«              ║  ║  ║  ║  ║ └╥┘\n",
       "«      cr: 10/═╩══╩══╩══╩══╩══╩═\n",
       "«              4  5  6  7  8  9 </pre>"
      ],
      "text/plain": [
       "             ┌───┐ ░ ┌───┐ ░                           ░                     »\n",
       "intensity_0: ┤ I ├─░─┤ I ├─░───────────────────────────░─────────────────────»\n",
       "             ├───┤ ░ ├───┤ ░                           ░                     »\n",
       "intensity_1: ┤ I ├─░─┤ I ├─░───────────────────────────░─────────────────────»\n",
       "             ├───┤ ░ ├───┤ ░      ┌───┐                ░                     »\n",
       "intensity_2: ┤ I ├─░─┤ I ├─░──────┤ X ├────────────────░─────────────────────»\n",
       "             ├───┤ ░ ├───┤ ░      └─┬─┘                ░      ┌───┐          »\n",
       "intensity_3: ┤ I ├─░─┤ I ├─░────────┼──────────────────░──────┤ X ├──────────»\n",
       "             ├───┤ ░ ├───┤ ░        │                  ░      └─┬─┘          »\n",
       "intensity_4: ┤ I ├─░─┤ I ├─░────────┼──────────────────░────────┼────────────»\n",
       "             ├───┤ ░ ├───┤ ░        │  ┌───┐           ░        │            »\n",
       "intensity_5: ┤ I ├─░─┤ I ├─░────────┼──┤ X ├───────────░────────┼────────────»\n",
       "             ├───┤ ░ ├───┤ ░        │  └─┬─┘┌───┐      ░        │  ┌───┐     »\n",
       "intensity_6: ┤ I ├─░─┤ I ├─░────────┼────┼──┤ X ├──────░────────┼──┤ X ├─────»\n",
       "             ├───┤ ░ ├───┤ ░        │    │  └─┬─┘      ░        │  └─┬─┘┌───┐»\n",
       "intensity_7: ┤ I ├─░─┤ I ├─░────────┼────┼────┼────────░────────┼────┼──┤ X ├»\n",
       "             ├───┤ ░ ├───┤ ░        │    │    │        ░ ┌───┐  │    │  └─┬─┘»\n",
       "      idx_0: ┤ H ├─░─┤ I ├─░────────■────■────■────────░─┤ X ├──■────■────■──»\n",
       "             ├───┤ ░ ├───┤ ░ ┌───┐  │    │    │  ┌───┐ ░ └───┘  │    │    │  »\n",
       "      idx_1: ┤ H ├─░─┤ I ├─░─┤ X ├──■────■────■──┤ X ├─░────────■────■────■──»\n",
       "             └───┘ ░ └───┘ ░ └───┘               └───┘ ░                     »\n",
       "      cr: 10/════════════════════════════════════════════════════════════════»\n",
       "                                                                             »\n",
       "«                   ░ ┌───┐                                    ░ ┌─┐         »\n",
       "«intensity_0: ──────░─┤ X ├────────────────────────────────────░─┤M├─────────»\n",
       "«                   ░ └─┬─┘┌───┐                               ░ └╥┘┌─┐      »\n",
       "«intensity_1: ──────░───┼──┤ X ├───────────────────────────────░──╫─┤M├──────»\n",
       "«                   ░   │  └─┬─┘┌───┐                          ░  ║ └╥┘┌─┐   »\n",
       "«intensity_2: ──────░───┼────┼──┤ X ├──────────────────────────░──╫──╫─┤M├───»\n",
       "«                   ░   │    │  └─┬─┘┌───┐                     ░  ║  ║ └╥┘┌─┐»\n",
       "«intensity_3: ──────░───┼────┼────┼──┤ X ├─────────────────────░──╫──╫──╫─┤M├»\n",
       "«                   ░   │    │    │  └─┬─┘┌───┐                ░  ║  ║  ║ └╥┘»\n",
       "«intensity_4: ──────░───┼────┼────┼────┼──┤ X ├────────────────░──╫──╫──╫──╫─»\n",
       "«                   ░   │    │    │    │  └─┬─┘┌───┐           ░  ║  ║  ║  ║ »\n",
       "«intensity_5: ──────░───┼────┼────┼────┼────┼──┤ X ├───────────░──╫──╫──╫──╫─»\n",
       "«                   ░   │    │    │    │    │  └─┬─┘┌───┐      ░  ║  ║  ║  ║ »\n",
       "«intensity_6: ──────░───┼────┼────┼────┼────┼────┼──┤ X ├──────░──╫──╫──╫──╫─»\n",
       "«                   ░   │    │    │    │    │    │  └─┬─┘┌───┐ ░  ║  ║  ║  ║ »\n",
       "«intensity_7: ──────░───┼────┼────┼────┼────┼────┼────┼──┤ X ├─░──╫──╫──╫──╫─»\n",
       "«             ┌───┐ ░   │    │    │    │    │    │    │  └─┬─┘ ░  ║  ║  ║  ║ »\n",
       "«      idx_0: ┤ X ├─░───■────■────■────■────■────■────■────■───░──╫──╫──╫──╫─»\n",
       "«             └───┘ ░   │    │    │    │    │    │    │    │   ░  ║  ║  ║  ║ »\n",
       "«      idx_1: ──────░───■────■────■────■────■────■────■────■───░──╫──╫──╫──╫─»\n",
       "«                   ░                                          ░  ║  ║  ║  ║ »\n",
       "«      cr: 10/════════════════════════════════════════════════════╩══╩══╩══╩═»\n",
       "«                                                                 0  1  2  3 »\n",
       "«                               \n",
       "«intensity_0: ──────────────────\n",
       "«                               \n",
       "«intensity_1: ──────────────────\n",
       "«                               \n",
       "«intensity_2: ──────────────────\n",
       "«                               \n",
       "«intensity_3: ──────────────────\n",
       "«             ┌─┐               \n",
       "«intensity_4: ┤M├───────────────\n",
       "«             └╥┘┌─┐            \n",
       "«intensity_5: ─╫─┤M├────────────\n",
       "«              ║ └╥┘┌─┐         \n",
       "«intensity_6: ─╫──╫─┤M├─────────\n",
       "«              ║  ║ └╥┘┌─┐      \n",
       "«intensity_7: ─╫──╫──╫─┤M├──────\n",
       "«              ║  ║  ║ └╥┘┌─┐   \n",
       "«      idx_0: ─╫──╫──╫──╫─┤M├───\n",
       "«              ║  ║  ║  ║ └╥┘┌─┐\n",
       "«      idx_1: ─╫──╫──╫──╫──╫─┤M├\n",
       "«              ║  ║  ║  ║  ║ └╥┘\n",
       "«      cr: 10/═╩══╩══╩══╩══╩══╩═\n",
       "«              4  5  6  7  8  9 "
      ]
     },
     "execution_count": 35,
     "metadata": {},
     "output_type": "execute_result"
    }
   ],
   "source": [
    "# Encode the third pixel whose value is (10101010):\n",
    "value11 = '11111111'\n",
    "\n",
    "# Add the CCNOT gates:\n",
    "for idx, px_value in enumerate(value11):\n",
    "    if(px_value=='1'):\n",
    "        qc_image.ccx(num_qubits-1,num_qubits-2, idx)\n",
    "\n",
    "qc_image.barrier()\n",
    "qc_image.measure(range(10),range(10))\n",
    "qc_image.draw()"
   ]
  },
  {
   "cell_type": "markdown",
   "id": "07f4f84d-a68a-4070-9469-1ce6019fe022",
   "metadata": {},
   "source": [
    "Analysis"
   ]
  },
  {
   "cell_type": "code",
   "execution_count": 36,
   "id": "765ea32c-dc02-4b2e-9847-f3a35f7d49de",
   "metadata": {},
   "outputs": [
    {
     "name": "stdout",
     "output_type": "stream",
     "text": [
      "Circuit dimensions\n",
      "Circuit depth:  148\n",
      "Circuit size:  244\n"
     ]
    },
    {
     "data": {
      "text/plain": [
       "OrderedDict([('cx', 84),\n",
       "             ('t', 56),\n",
       "             ('tdg', 42),\n",
       "             ('h', 28),\n",
       "             ('id', 18),\n",
       "             ('measure', 10),\n",
       "             ('barrier', 5),\n",
       "             ('u3', 4),\n",
       "             ('u2', 2)])"
      ]
     },
     "execution_count": 36,
     "metadata": {},
     "output_type": "execute_result"
    }
   ],
   "source": [
    "print('Circuit dimensions')\n",
    "print('Circuit depth: ', qc_image.decompose().depth())\n",
    "print('Circuit size: ', qc_image.decompose().size())\n",
    "\n",
    "qc_image.decompose().count_ops()"
   ]
  },
  {
   "cell_type": "code",
   "execution_count": 37,
   "id": "712fd3e8-5760-47a8-bcc8-92531cf974c9",
   "metadata": {},
   "outputs": [
    {
     "name": "stdout",
     "output_type": "stream",
     "text": [
      "Encoded: 00 = 0\n",
      "Encoded: 01 = 01100100\n",
      "Encoded: 10 = 11001000\n",
      "Encoded: 11 = 1\n",
      "{'0101100100': 2041, '1011001000': 2005, '1111111111': 2059, '0000000000': 2087}\n"
     ]
    },
    {
     "data": {
      "image/png": "[encoded data removed]",
      "text/plain": [
       "<Figure size 700x500 with 1 Axes>"
      ]
     },
     "execution_count": 37,
     "metadata": {},
     "output_type": "execute_result"
    }
   ],
   "source": [
    "aer_sim = Aer.get_backend('aer_simulator')\n",
    "t_qc_image = transpile(qc_image, aer_sim)\n",
    "qobj = assemble(t_qc_image, shots=8192)\n",
    "job_neqr = aer_sim.run(qobj)\n",
    "result_neqr = job_neqr.result()\n",
    "counts_neqr = result_neqr.get_counts()\n",
    "print('Encoded: 00 = 0')\n",
    "print('Encoded: 01 = 01100100')\n",
    "print('Encoded: 10 = 11001000')\n",
    "print('Encoded: 11 = 1')\n",
    "\n",
    "print(counts_neqr)\n",
    "plot_histogram(counts_neqr)"
   ]
  },
  {
   "cell_type": "markdown",
   "id": "75953264-4443-4a6a-9e41-6511553b9fa3",
   "metadata": {},
   "source": [
    "Real device"
   ]
  },
  {
   "cell_type": "code",
   "execution_count": 38,
   "id": "13123614-c44e-47f1-9a59-af9cb100551f",
   "metadata": {},
   "outputs": [],
   "source": [
    "from qiskit import IBMQ\n",
    "IBMQ.save_account('7a306144e9166440d524c79fc7139a205221b592a1fccd7066dfec748b520f04aa1b1dbe2ae98e5860d603761dede5e6c205f0d841a00094dd1d532beddfac7a',overwrite=True)"
   ]
  },
  {
   "cell_type": "code",
   "execution_count": 39,
   "id": "4755a3bf-a45d-4f3f-9b6e-a243862d502d",
   "metadata": {},
   "outputs": [
    {
     "name": "stderr",
     "output_type": "stream",
     "text": [
      "ibmqfactory.load_account:WARNING:2022-12-28 15:56:25,149: Credentials are already in use. The existing account in the session will be replaced.\n"
     ]
    },
    {
     "name": "stdout",
     "output_type": "stream",
     "text": [
      "least busy backend:  ibmq_quito\n"
     ]
    }
   ],
   "source": [
    "# Load IBM Q account and get the least busy backend device\n",
    "from qiskit.providers.ibmq import least_busy\n",
    "n=3\n",
    "IBMQ.load_account()\n",
    "provider = IBMQ.get_provider(hub='ibm-q')\n",
    "backend = least_busy(provider.backends(filters=lambda x: x.configuration().n_qubits >= (n+1) and\n",
    "                                   not x.configuration().simulator and x.status().operational==True))\n",
    "print(\"least busy backend: \", backend)"
   ]
  },
  {
   "cell_type": "code",
   "execution_count": null,
   "id": "eece14cc-bc57-40ca-801b-dca2dcc2ed03",
   "metadata": {},
   "outputs": [],
   "source": [
    "# Run our circuit on the least busy backend. Monitor the execution of the job in the queue\n",
    "from qiskit.tools.monitor import job_monitor\n",
    "\n",
    "tqc_image= transpile(qc_image, backend, optimization_level=3)\n",
    "job = backend.run(tqc_image)\n",
    "job_monitor(job, interval=2)"
   ]
  },
  {
   "cell_type": "code",
   "execution_count": null,
   "id": "67c7244f-4566-40ed-bfd1-b3d6742eb60d",
   "metadata": {},
   "outputs": [],
   "source": [
    "# Get the results of the computation\n",
    "results = job.result()\n",
    "answer = results.get_counts()\n",
    "\n",
    "plot_histogram(answer)"
   ]
  },
  {
   "cell_type": "code",
   "execution_count": null,
   "id": "d3234f84-e5a7-40f1-b381-e46813851a13",
   "metadata": {},
   "outputs": [],
   "source": []
  }
 ],
 "metadata": {
  "kernelspec": {
   "display_name": "Python 3 (ipykernel)",
   "language": "python",
   "name": "python3"
  },
  "language_info": {
   "codemirror_mode": {
    "name": "ipython",
    "version": 3
   },
   "file_extension": ".py",
   "mimetype": "text/x-python",
   "name": "python",
   "nbconvert_exporter": "python",
   "pygments_lexer": "ipython3",
   "version": "3.10.4"
  }
 },
 "nbformat": 4,
 "nbformat_minor": 5
}
